{
 "cells": [
  {
   "cell_type": "markdown",
   "id": "99155b23",
   "metadata": {},
   "source": [
    "# Pandas Functions Part-2"
   ]
  },
  {
   "cell_type": "code",
   "execution_count": 14,
   "id": "bb7e119e",
   "metadata": {},
   "outputs": [],
   "source": [
    "import pandas as pd"
   ]
  },
  {
   "cell_type": "code",
   "execution_count": 15,
   "id": "72a5409c",
   "metadata": {},
   "outputs": [],
   "source": [
    "#Replace NULL values with the number\"\n",
    "df = pd.read_csv('foo.csv')\n",
    "df.fillna(130, inplace = True)"
   ]
  },
  {
   "cell_type": "code",
   "execution_count": 16,
   "id": "ba8e2f29",
   "metadata": {},
   "outputs": [
    {
     "name": "stdout",
     "output_type": "stream",
     "text": [
      "Red count before\n",
      "37 \n",
      "\n",
      "Red count after\n",
      "88\n"
     ]
    }
   ],
   "source": [
    "# Replace Only For Specified Columns\n",
    "\n",
    "df= pd.read_csv('Products.csv')\n",
    "red=df[df['ProductColor'] == 'Red']\n",
    "red_counts=red.shape[0]\n",
    "print(\"Red count before\")\n",
    "print (red_counts,\"\\n\")\n",
    "df[\"ProductColor\"].fillna('Red', inplace = True)\n",
    "red=df[df['ProductColor'] == 'Red']\n",
    "red_counts=red.shape[0]\n",
    "print(\"Red count after\")\n",
    "print(red_counts)"
   ]
  },
  {
   "cell_type": "code",
   "execution_count": 17,
   "id": "1c9e6cdf",
   "metadata": {},
   "outputs": [
    {
     "name": "stdout",
     "output_type": "stream",
     "text": [
      "Before filling 291\n",
      "\n",
      "\n",
      "After filling 293\n"
     ]
    }
   ],
   "source": [
    "#Replace Using Mean\n",
    "\n",
    "df = pd.read_csv('Products.csv')\n",
    "a = df[\"ProductPrice\"].count()\n",
    "print(\"Before filling\",a)\n",
    "print(\"\\n\")\n",
    "b = df[\"ProductPrice\"].mean()\n",
    "df[\"ProductPrice\"].fillna(b, inplace = True)\n",
    "c = df[\"ProductPrice\"].count()\n",
    "print(\"After filling\",c)"
   ]
  },
  {
   "cell_type": "code",
   "execution_count": 18,
   "id": "0e5c2407",
   "metadata": {},
   "outputs": [
    {
     "name": "stdout",
     "output_type": "stream",
     "text": [
      "Before filling 287\n",
      "\n",
      "\n",
      "After filling 293\n"
     ]
    }
   ],
   "source": [
    "#Replace Using Median\n",
    "\n",
    "df = pd.read_csv('Products.csv')\n",
    "a = df[\"ProductCost\"].count()\n",
    "print(\"Before filling\",a)\n",
    "print(\"\\n\")\n",
    "b = df[\"ProductCost\"].median()\n",
    "df[\"ProductCost\"].fillna(b, inplace = True)\n",
    "c = df[\"ProductCost\"].count()\n",
    "print(\"After filling\",c)"
   ]
  },
  {
   "cell_type": "code",
   "execution_count": 19,
   "id": "482cbeca",
   "metadata": {},
   "outputs": [
    {
     "name": "stdout",
     "output_type": "stream",
     "text": [
      "Before filling 293\n",
      "\n",
      "\n",
      "After filling 293\n"
     ]
    }
   ],
   "source": [
    "#Replace Using Mode\n",
    "\n",
    "df = pd.read_csv('Products.csv')\n",
    "a = df[\"ProductStyle\"].count()\n",
    "print(\"Before filling\",a)\n",
    "print(\"\\n\")\n",
    "b = df[\"ProductStyle\"].mode()\n",
    "df[\"ProductStyle\"].fillna(b, inplace = True)\n",
    "c = df[\"ProductStyle\"].count()\n",
    "print(\"After filling\",c)"
   ]
  },
  {
   "cell_type": "code",
   "execution_count": null,
   "id": "fa1d11ed",
   "metadata": {},
   "outputs": [],
   "source": []
  }
 ],
 "metadata": {
  "kernelspec": {
   "display_name": "Python 3 (ipykernel)",
   "language": "python",
   "name": "python3"
  },
  "language_info": {
   "codemirror_mode": {
    "name": "ipython",
    "version": 3
   },
   "file_extension": ".py",
   "mimetype": "text/x-python",
   "name": "python",
   "nbconvert_exporter": "python",
   "pygments_lexer": "ipython3",
   "version": "3.11.5"
  }
 },
 "nbformat": 4,
 "nbformat_minor": 5
}
