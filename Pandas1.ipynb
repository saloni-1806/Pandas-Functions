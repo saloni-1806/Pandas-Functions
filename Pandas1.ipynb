{
 "cells": [
  {
   "cell_type": "markdown",
   "id": "1f88b856",
   "metadata": {},
   "source": [
    "# Pandas Functions Part-1"
   ]
  },
  {
   "cell_type": "code",
   "execution_count": 2,
   "id": "3a503875",
   "metadata": {},
   "outputs": [],
   "source": [
    "import pandas as pd"
   ]
  },
  {
   "cell_type": "code",
   "execution_count": 4,
   "id": "8feb8cb3",
   "metadata": {},
   "outputs": [
    {
     "name": "stdout",
     "output_type": "stream",
     "text": [
      "Create a simple Pandas Series from a list\n",
      "0    1\n",
      "1    7\n",
      "2    2\n",
      "dtype: int64\n",
      "\n",
      " Return the first value of the Series\n",
      "1\n"
     ]
    }
   ],
   "source": [
    "print(\"Create a simple Pandas Series from a list\")\n",
    "a = [1, 7, 2]\n",
    "a1= pd.Series(a)\n",
    "print(a1)\n",
    "print(\"\\n Return the first value of the Series\")\n",
    "print(a1[0])"
   ]
  },
  {
   "cell_type": "code",
   "execution_count": 5,
   "id": "95e1dcc3",
   "metadata": {},
   "outputs": [
    {
     "name": "stdout",
     "output_type": "stream",
     "text": [
      "Create your own labels\n",
      "x    1\n",
      "y    7\n",
      "z    2\n",
      "dtype: int64\n"
     ]
    }
   ],
   "source": [
    "print(\"Create your own labels\")\n",
    "b = [1, 7, 2]\n",
    "b1= pd.Series(a, index = [\"x\", \"y\", \"z\"])\n",
    "print(b1)\n"
   ]
  },
  {
   "cell_type": "code",
   "execution_count": 7,
   "id": "f7e1de98",
   "metadata": {},
   "outputs": [
    {
     "name": "stdout",
     "output_type": "stream",
     "text": [
      "Create a simple Pandas Series from a dictionary\n",
      "day1    420\n",
      "day2    380\n",
      "day3    390\n",
      "dtype: int64\n"
     ]
    }
   ],
   "source": [
    "print (\"Create a simple Pandas Series from a dictionary\")\n",
    "c1 = {\"day1\": 420, \"day2\": 380, \"day3\": 390}\n",
    "c2 = pd.Series(c1)\n",
    "print(c2)"
   ]
  },
  {
   "cell_type": "code",
   "execution_count": 9,
   "id": "3d215f8c",
   "metadata": {},
   "outputs": [
    {
     "name": "stdout",
     "output_type": "stream",
     "text": [
      "Create a Series using only data from day1 and day2\n",
      "day1    420\n",
      "day2    380\n",
      "dtype: int64\n"
     ]
    }
   ],
   "source": [
    "print (\"Create a Series using only data from day1 and day2\")\n",
    "d1 = {\"day1\": 420, \"day2\": 380, \"day3\": 390}\n",
    "d2 = pd.Series(d1, index = [\"day1\", \"day2\"])\n",
    "print(d2)"
   ]
  },
  {
   "cell_type": "code",
   "execution_count": 11,
   "id": "e21bea8a",
   "metadata": {},
   "outputs": [
    {
     "name": "stdout",
     "output_type": "stream",
     "text": [
      "Create a DataFrame from two Series \n",
      "\n",
      "   calories  duration\n",
      "0       420        50\n",
      "1       380        40\n",
      "2       390        45\n"
     ]
    }
   ],
   "source": [
    "print(\"Create a DataFrame from two Series \\n\")\n",
    "\n",
    "e1 = {\n",
    "  \"calories\": [420, 380, 390],\n",
    "  \"duration\": [50, 40, 45]\n",
    "}\n",
    "\n",
    "e2 = pd.DataFrame(e1)\n",
    "\n",
    "print(e2)"
   ]
  },
  {
   "cell_type": "code",
   "execution_count": 12,
   "id": "eb1163d5",
   "metadata": {},
   "outputs": [
    {
     "name": "stdout",
     "output_type": "stream",
     "text": [
      "Load the CSV into a DataFrame\n",
      "    Unnamed: 0 month  av_hi  av_lo  rec_hi  rec_lo  av_rain  av_day\n",
      "0            0   Jan     58      5      74      22     2.95    31.5\n",
      "1            1   Feb     61      5      78      26     3.02    33.0\n",
      "2            2   Mar     65      5      84      25     2.34    35.0\n",
      "3            3   Apr     67      5      92      28     1.02    36.0\n",
      "4            4   May     71      5      98      35     0.48    38.0\n",
      "5            5   Jun     75      5     107      41     0.11    40.0\n",
      "6            6   Jul     77      5     105      44     0.00    41.0\n",
      "7            7   Aug     77      5     102      43     0.03    41.0\n",
      "8            8   Sep     77      5     103      40     0.17    41.0\n",
      "9            9   Oct     73      5      96      34      NaN    39.0\n",
      "10          10   Nov     64      5      84      30     1.70    34.5\n",
      "11          11   Dec     58      5      73      21     2.56    31.5\n"
     ]
    }
   ],
   "source": [
    "print (\"Load the CSV into a DataFrame\")\n",
    "df = pd.read_csv('foo.csv')\n",
    "print(df.to_string()) \n"
   ]
  },
  {
   "cell_type": "code",
   "execution_count": 13,
   "id": "f5bb9f8e",
   "metadata": {},
   "outputs": [
    {
     "name": "stdout",
     "output_type": "stream",
     "text": [
      "Print the DataFrame without the to_string() method\n",
      "    Unnamed: 0 month  av_hi  av_lo  rec_hi  rec_lo  av_rain  av_day\n",
      "0            0   Jan     58      5      74      22     2.95    31.5\n",
      "1            1   Feb     61      5      78      26     3.02    33.0\n",
      "2            2   Mar     65      5      84      25     2.34    35.0\n",
      "3            3   Apr     67      5      92      28     1.02    36.0\n",
      "4            4   May     71      5      98      35     0.48    38.0\n",
      "5            5   Jun     75      5     107      41     0.11    40.0\n",
      "6            6   Jul     77      5     105      44     0.00    41.0\n",
      "7            7   Aug     77      5     102      43     0.03    41.0\n",
      "8            8   Sep     77      5     103      40     0.17    41.0\n",
      "9            9   Oct     73      5      96      34      NaN    39.0\n",
      "10          10   Nov     64      5      84      30     1.70    34.5\n",
      "11          11   Dec     58      5      73      21     2.56    31.5\n"
     ]
    }
   ],
   "source": [
    "print (\"Print the DataFrame without the to_string() method\")\n",
    "df = pd.read_csv('foo.csv')\n",
    "print(df)"
   ]
  },
  {
   "cell_type": "code",
   "execution_count": null,
   "id": "f96e71f0",
   "metadata": {},
   "outputs": [],
   "source": []
  }
 ],
 "metadata": {
  "kernelspec": {
   "display_name": "Python 3 (ipykernel)",
   "language": "python",
   "name": "python3"
  },
  "language_info": {
   "codemirror_mode": {
    "name": "ipython",
    "version": 3
   },
   "file_extension": ".py",
   "mimetype": "text/x-python",
   "name": "python",
   "nbconvert_exporter": "python",
   "pygments_lexer": "ipython3",
   "version": "3.11.5"
  }
 },
 "nbformat": 4,
 "nbformat_minor": 5
}
